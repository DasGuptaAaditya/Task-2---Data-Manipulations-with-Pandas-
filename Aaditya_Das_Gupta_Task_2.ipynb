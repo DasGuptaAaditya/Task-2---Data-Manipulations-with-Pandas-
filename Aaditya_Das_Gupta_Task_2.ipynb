{
  "nbformat": 4,
  "nbformat_minor": 0,
  "metadata": {
    "colab": {
      "private_outputs": true,
      "provenance": []
    },
    "kernelspec": {
      "name": "python3",
      "display_name": "Python 3"
    },
    "language_info": {
      "name": "python"
    }
  },
  "cells": [
    {
      "cell_type": "markdown",
      "source": [
        "\n",
        "Aaditya Das Gupta\n",
        "\n",
        "Data analysis with python"
      ],
      "metadata": {
        "id": "tJF617WUlpkf"
      }
    },
    {
      "cell_type": "markdown",
      "source": [
        "Task 2"
      ],
      "metadata": {
        "id": "Z2mmImN0lqlt"
      }
    },
    {
      "cell_type": "code",
      "source": [
        "import pandas as pd\n",
        "import os"
      ],
      "metadata": {
        "id": "JfLge8-dlmU4"
      },
      "execution_count": null,
      "outputs": []
    },
    {
      "cell_type": "markdown",
      "source": [
        "Upload data file - CSV file"
      ],
      "metadata": {
        "id": "BJo9b-GUraFS"
      }
    },
    {
      "cell_type": "code",
      "source": [
        "from google.colab import files\n",
        "uploaded = files.upload()"
      ],
      "metadata": {
        "id": "nJOCfWmUlmXv"
      },
      "execution_count": null,
      "outputs": []
    },
    {
      "cell_type": "code",
      "source": [
        "import pandas as pd\n",
        "import io\n",
        "\n",
        "df = pd.read_csv(io.BytesIO(uploaded['01.Data Cleaning and Preprocessing.csv']))\n",
        "df.head(5)"
      ],
      "metadata": {
        "id": "sDCdZXEFlma_"
      },
      "execution_count": null,
      "outputs": []
    },
    {
      "cell_type": "code",
      "source": [
        "type(df)"
      ],
      "metadata": {
        "id": "YKdkoZ8Ks7oR"
      },
      "execution_count": null,
      "outputs": []
    },
    {
      "cell_type": "markdown",
      "source": [
        "Perform Basic EDA"
      ],
      "metadata": {
        "id": "ft9xVDHNrfWM"
      }
    },
    {
      "cell_type": "code",
      "source": [
        "df.describe()"
      ],
      "metadata": {
        "id": "xKnORF8Blmd_"
      },
      "execution_count": null,
      "outputs": []
    },
    {
      "cell_type": "code",
      "source": [
        "df.info()"
      ],
      "metadata": {
        "id": "rJHh-ZDvlmhI"
      },
      "execution_count": null,
      "outputs": []
    },
    {
      "cell_type": "code",
      "source": [
        "df.columns"
      ],
      "metadata": {
        "id": "YEfpvcZGlmkA"
      },
      "execution_count": null,
      "outputs": []
    },
    {
      "cell_type": "markdown",
      "source": [
        "Check for missing Values"
      ],
      "metadata": {
        "id": "LsC2jZiero1m"
      }
    },
    {
      "cell_type": "code",
      "source": [
        "df.isnull()"
      ],
      "metadata": {
        "id": "skLfSgEht4eP"
      },
      "execution_count": null,
      "outputs": []
    },
    {
      "cell_type": "code",
      "source": [
        "#Check for missing values\n",
        "df.isnull().sum()"
      ],
      "metadata": {
        "id": "139YZGtYlmqO"
      },
      "execution_count": null,
      "outputs": []
    },
    {
      "cell_type": "code",
      "source": [
        "#Drop rows with missing valiues and place it in a new variable \"df_cleaned\"\n",
        "df_cleaned = df.dropna()"
      ],
      "metadata": {
        "id": "xxklP6rooFQE"
      },
      "execution_count": null,
      "outputs": []
    },
    {
      "cell_type": "code",
      "source": [
        "# Fill missing values with0 for numerical data and place it ina new variable called df1\n",
        "df1 = df.fillna(0)\n",
        "df1\n"
      ],
      "metadata": {
        "id": "gPlhmZPDoFTZ"
      },
      "execution_count": null,
      "outputs": []
    },
    {
      "cell_type": "code",
      "source": [
        "#Checking if missing values are removed\n",
        "df1.isnull().sum()"
      ],
      "metadata": {
        "id": "7vJ3CkiVoFXD"
      },
      "execution_count": null,
      "outputs": []
    },
    {
      "cell_type": "markdown",
      "source": [
        "Above shows that all the missing values has been replaced by 0.\n",
        "\n",
        "Now there is no missing values in the data"
      ],
      "metadata": {
        "id": "0zhDdbc0r93w"
      }
    },
    {
      "cell_type": "code",
      "source": [
        "df1.notnull()"
      ],
      "metadata": {
        "id": "HfmfRdTgtyC6"
      },
      "execution_count": null,
      "outputs": []
    },
    {
      "cell_type": "code",
      "source": [
        "# Other method istead of 0 add Forward values /next value\n",
        "\n",
        "df3=df.fillna(method=\"pad\")\n",
        "df3"
      ],
      "metadata": {
        "id": "s2S4j2pvurB5"
      },
      "execution_count": null,
      "outputs": []
    },
    {
      "cell_type": "code",
      "source": [
        "#Instead of 0 add backward values/ Previous values\n",
        "df4=df.fillna(method=\"bfill\")\n",
        "df4"
      ],
      "metadata": {
        "id": "LcRrFuUHvOWG"
      },
      "execution_count": null,
      "outputs": []
    },
    {
      "cell_type": "markdown",
      "source": [
        "Check for Duplicates in the data"
      ],
      "metadata": {
        "id": "1_1uWvrssGys"
      }
    },
    {
      "cell_type": "code",
      "source": [
        "#Identify duplicates\n",
        "print(df1.duplicated().sum())"
      ],
      "metadata": {
        "id": "V55Yao5yoFZW"
      },
      "execution_count": null,
      "outputs": []
    },
    {
      "cell_type": "code",
      "source": [
        "#Remove duplicates\n",
        "df2 = df1.drop_duplicates()\n",
        "df2.head(5)"
      ],
      "metadata": {
        "id": "_yMmvKpToFbs"
      },
      "execution_count": null,
      "outputs": []
    },
    {
      "cell_type": "markdown",
      "source": [
        "Remove Outliers using IQR"
      ],
      "metadata": {
        "id": "D5z-JU1GsVBt"
      }
    },
    {
      "cell_type": "code",
      "source": [
        "import numpy as np\n",
        "import matplotlib.pyplot as plt\n",
        "import seaborn as sns\n",
        "import scipy as stats"
      ],
      "metadata": {
        "id": "0cU1cF2dp1dD"
      },
      "execution_count": null,
      "outputs": []
    },
    {
      "cell_type": "code",
      "source": [
        "df2.columns"
      ],
      "metadata": {
        "id": "FDDGsW4sp1k2"
      },
      "execution_count": null,
      "outputs": []
    },
    {
      "cell_type": "code",
      "source": [
        "#Dropping Observation column since it has time constraint values\n",
        "df2.drop((\"Observation\"),axis=1,inplace=True)\n",
        "df2.columns"
      ],
      "metadata": {
        "id": "E9QwqInVp1ua"
      },
      "execution_count": null,
      "outputs": []
    },
    {
      "cell_type": "code",
      "source": [
        "Q1=df2.quantile(0.25)\n",
        "Q3=df2.quantile(0.75)\n",
        "IQR=Q3-Q1\n",
        "print(IQR)"
      ],
      "metadata": {
        "id": "cJaYHNHCp1xu"
      },
      "execution_count": null,
      "outputs": []
    },
    {
      "cell_type": "code",
      "source": [
        "df2=df2[~((df2<(Q1-1.5*IQR)) | (df2>(Q3+1.5*IQR))).any(axis=1)]\n",
        "df2"
      ],
      "metadata": {
        "id": "7SLVQkOOp11B"
      },
      "execution_count": null,
      "outputs": []
    },
    {
      "cell_type": "code",
      "source": [
        "df2.describe()"
      ],
      "metadata": {
        "id": "GdBSrdqKyEnp"
      },
      "execution_count": null,
      "outputs": []
    },
    {
      "cell_type": "markdown",
      "source": [
        "Our Clean data set is ready having no missing values, no duplicates and no outliers"
      ],
      "metadata": {
        "id": "FheDgx5yy-Rt"
      }
    }
  ]
}